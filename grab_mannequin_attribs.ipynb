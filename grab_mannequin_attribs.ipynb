{
 "cells": [
  {
   "cell_type": "code",
   "execution_count": 2,
   "id": "8da6a9b5",
   "metadata": {},
   "outputs": [],
   "source": [
    "from pathlib import Path\n",
    "import matplotlib.pyplot as plt\n",
    "from glob import glob\n",
    "import random\n",
    "from PIL import Image\n",
    "import pandas as pd"
   ]
  },
  {
   "cell_type": "code",
   "execution_count": 3,
   "id": "4932f598",
   "metadata": {},
   "outputs": [],
   "source": [
    "caption_files = glob(\"/home/soon/datasets/mannequin/captions/*\")\n"
   ]
  },
  {
   "cell_type": "code",
   "execution_count": 4,
   "id": "67727788",
   "metadata": {},
   "outputs": [],
   "source": [
    "tops = set()\n",
    "bottoms = set()\n",
    "for fname in caption_files:\n",
    "    attribs = open(fname).read().replace('a ', ' ').replace('an ', ' ').split('dressed in')[-1].split('and')\n",
    "    N = len(attribs)- 1\n",
    "    bottoms.add(attribs[N].strip())\n",
    "    for n in range(N-1, -1, -1):\n",
    "        tops.add(attribs[n].strip())\n",
    "        \n",
    "top_colours = set()\n",
    "top_styles = set()\n",
    "top_types = set()\n",
    "\n",
    "for top in list(tops):\n",
    "    x = top.split()\n",
    "    top_colours.add(x.pop(0))\n",
    "    if len(x)>0:\n",
    "        top_types.add(x.pop())\n",
    "    if len(x) > 0 :\n",
    "        top_styles.add(' '.join(x))\n"
   ]
  },
  {
   "cell_type": "code",
   "execution_count": 5,
   "id": "2207c354",
   "metadata": {},
   "outputs": [],
   "source": [
    "bottom_colours = set()\n",
    "bottom_styles = set()\n",
    "bottom_type = set()\n",
    "\n",
    "for bottom in list(bottoms):\n",
    "    x = bottom.split()\n",
    "    bottom_colours.add(x.pop(0))\n",
    "    bottom_type.add(x.pop())\n",
    "    if len(x) > 0 :\n",
    "        bottom_styles.add(' '.join(x))\n"
   ]
  },
  {
   "cell_type": "code",
   "execution_count": 7,
   "id": "f3af2fdf",
   "metadata": {},
   "outputs": [],
   "source": [
    "common_colours = top_colours.intersection(bottom_colours)\n",
    "data = {'common colours': common_colours,\n",
    "        'top_colours':common_colours.symmetric_difference(top_colours),\n",
    "        'botom_colours': common_colours.symmetric_difference(bottom_colours), \n",
    "        'top_styles': top_styles,\n",
    "        'top_types': top_types,\n",
    "        'bottom_styles': bottom_styles,\n",
    "        'bottom_types': bottom_type}"
   ]
  },
  {
   "cell_type": "code",
   "execution_count": 8,
   "id": "3d69cafb",
   "metadata": {},
   "outputs": [
    {
     "data": {
      "text/plain": [
       "{'common colours': {'beige',\n",
       "  'black',\n",
       "  'blue',\n",
       "  'brown',\n",
       "  'gray',\n",
       "  'green',\n",
       "  'navy',\n",
       "  'olive',\n",
       "  'orange',\n",
       "  'red',\n",
       "  'white'},\n",
       " 'top_colours': {'ivory'},\n",
       " 'botom_colours': {'gold', 'pink', 'purple', 'yellow'},\n",
       " 'top_styles': {'bomber',\n",
       "  'button-down',\n",
       "  'cardig',\n",
       "  'checkered button-down',\n",
       "  'cropped',\n",
       "  'flannel',\n",
       "  'leather',\n",
       "  'polk dotted button-down',\n",
       "  'polo',\n",
       "  'pullover',\n",
       "  'striped button-down',\n",
       "  'turtleneck'},\n",
       " 'top_types': {'jacket', 'shirt', 'sweater', 't-shirt'},\n",
       " 'bottom_styles': {'bubble', 'mini', 'palazzo', 'pleated', 'wrap'},\n",
       " 'bottom_types': {'jeans', 'pants', 'skirt', 'sweatpants', 'trousers'}}"
      ]
     },
     "execution_count": 8,
     "metadata": {},
     "output_type": "execute_result"
    }
   ],
   "source": [
    "data"
   ]
  },
  {
   "cell_type": "code",
   "execution_count": null,
   "id": "3db194e8",
   "metadata": {},
   "outputs": [],
   "source": [
    "with open(\"mannequin_attribs.txt\", \"w\") as f:\n",
    "    for k, v in data.items():\n",
    "        c = ','.join(sorted(v))\n",
    "        f.write(f'{k}: {c}\\n')"
   ]
  }
 ],
 "metadata": {
  "kernelspec": {
   "display_name": "vqgan_clip",
   "language": "python",
   "name": "vqgan_clip"
  },
  "language_info": {
   "codemirror_mode": {
    "name": "ipython",
    "version": 3
   },
   "file_extension": ".py",
   "mimetype": "text/x-python",
   "name": "python",
   "nbconvert_exporter": "python",
   "pygments_lexer": "ipython3",
   "version": "3.9.7"
  }
 },
 "nbformat": 4,
 "nbformat_minor": 5
}
